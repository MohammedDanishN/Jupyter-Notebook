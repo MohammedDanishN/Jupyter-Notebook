{
 "cells": [
  {
   "cell_type": "code",
   "execution_count": 1,
   "id": "42873bef",
   "metadata": {
    "_cell_guid": "b1076dfc-b9ad-4769-8c92-a6c4dae69d19",
    "_uuid": "8f2839f25d086af736a60e9eeb907d3b93b6e0e5",
    "execution": {
     "iopub.execute_input": "2023-07-28T11:19:13.445179Z",
     "iopub.status.busy": "2023-07-28T11:19:13.443471Z",
     "iopub.status.idle": "2023-07-28T11:19:13.458143Z",
     "shell.execute_reply": "2023-07-28T11:19:13.456982Z"
    },
    "papermill": {
     "duration": 0.026402,
     "end_time": "2023-07-28T11:19:13.460888",
     "exception": false,
     "start_time": "2023-07-28T11:19:13.434486",
     "status": "completed"
    },
    "tags": []
   },
   "outputs": [],
   "source": [
    "# This Python 3 environment comes with many helpful analytics libraries installed\n",
    "# It is defined by the kaggle/python Docker image: https://github.com/kaggle/docker-python\n",
    "# For example, here's several helpful packages to load\n",
    "\n",
    "import numpy as np # linear algebra\n",
    "import pandas as pd # data processing, CSV file I/O (e.g. pd.read_csv)\n",
    "\n",
    "# Input data files are available in the read-only \"../input/\" directory\n",
    "# For example, running this (by clicking run or pressing Shift+Enter) will list all files under the input directory\n",
    "\n",
    "import os\n",
    "for dirname, _, filenames in os.walk('/kaggle/input'):\n",
    "\n",
    "    for filename in filenames:\n",
    "        print(os.path.join(dirname, filename))\n",
    "\n",
    "# You can write up to 20GB to the current directory (/kaggle/working/) that gets preserved as output when you create a version using \"Save & Run All\" \n",
    "# You can also write temporary files to /kaggle/temp/, but they won't be saved outside of the current session"
   ]
  },
  {
   "cell_type": "markdown",
   "id": "bc68a595",
   "metadata": {
    "papermill": {
     "duration": 0.005368,
     "end_time": "2023-07-28T11:19:13.472268",
     "exception": false,
     "start_time": "2023-07-28T11:19:13.466900",
     "status": "completed"
    },
    "tags": []
   },
   "source": [
    "****Rotate Array****"
   ]
  },
  {
   "cell_type": "code",
   "execution_count": 2,
   "id": "60229bfd",
   "metadata": {
    "execution": {
     "iopub.execute_input": "2023-07-28T11:19:13.485092Z",
     "iopub.status.busy": "2023-07-28T11:19:13.484672Z",
     "iopub.status.idle": "2023-07-28T11:19:13.493321Z",
     "shell.execute_reply": "2023-07-28T11:19:13.492085Z"
    },
    "papermill": {
     "duration": 0.018796,
     "end_time": "2023-07-28T11:19:13.496545",
     "exception": false,
     "start_time": "2023-07-28T11:19:13.477749",
     "status": "completed"
    },
    "tags": []
   },
   "outputs": [
    {
     "name": "stdout",
     "output_type": "stream",
     "text": [
      "[2, 2, 2, 3, 4, 5, 5, 5, 5, 6, 6, 6, 1]\n"
     ]
    }
   ],
   "source": [
    "# Rotate Once\n",
    "def rotateArray(arr,N):\n",
    "    temp=arr[0]\n",
    "    for i in range(1,N):\n",
    "        arr[i-1]=arr[i]\n",
    "    arr[N-1] = temp\n",
    "    \n",
    "    return arr\n",
    "    \n",
    "array=[1,2,2,2,3,4,5,5,5,5,6,6,6] \n",
    "ans=rotateArray(array,len(array))\n",
    "print(ans)\n",
    "    "
   ]
  },
  {
   "cell_type": "code",
   "execution_count": 3,
   "id": "f0761d50",
   "metadata": {
    "execution": {
     "iopub.execute_input": "2023-07-28T11:19:13.510480Z",
     "iopub.status.busy": "2023-07-28T11:19:13.510041Z",
     "iopub.status.idle": "2023-07-28T11:19:13.519267Z",
     "shell.execute_reply": "2023-07-28T11:19:13.517558Z"
    },
    "papermill": {
     "duration": 0.019492,
     "end_time": "2023-07-28T11:19:13.521912",
     "exception": false,
     "start_time": "2023-07-28T11:19:13.502420",
     "status": "completed"
    },
    "tags": []
   },
   "outputs": [
    {
     "name": "stdout",
     "output_type": "stream",
     "text": [
      "[1, 2, 3, 4, 5, 6, 7, 8]\n"
     ]
    }
   ],
   "source": [
    "#roate kth place\n",
    "def rotateKthArray(arr,N,K):\n",
    "    temp=[]\n",
    "    for i in range(K):\n",
    "        temp.append(arr[i])\n",
    "    \n",
    "    for i in range(K,N):\n",
    "        arr[i-K] = arr[i]\n",
    "    \n",
    "    for j in range(K):        \n",
    "        arr[j+K]=temp[j]\n",
    "    return arr\n",
    "    \n",
    "array=[5,6,7,8,1,2,3,4]\n",
    "rotateKthArray(array,len(array),4)\n",
    "print(array)\n",
    "    "
   ]
  },
  {
   "cell_type": "markdown",
   "id": "825878a5",
   "metadata": {
    "papermill": {
     "duration": 0.00547,
     "end_time": "2023-07-28T11:19:13.533064",
     "exception": false,
     "start_time": "2023-07-28T11:19:13.527594",
     "status": "completed"
    },
    "tags": []
   },
   "source": [
    "**Remove Array Duplicate**"
   ]
  },
  {
   "cell_type": "code",
   "execution_count": 4,
   "id": "2065d801",
   "metadata": {
    "execution": {
     "iopub.execute_input": "2023-07-28T11:19:13.546051Z",
     "iopub.status.busy": "2023-07-28T11:19:13.545669Z",
     "iopub.status.idle": "2023-07-28T11:19:13.554007Z",
     "shell.execute_reply": "2023-07-28T11:19:13.552773Z"
    },
    "papermill": {
     "duration": 0.01809,
     "end_time": "2023-07-28T11:19:13.556796",
     "exception": false,
     "start_time": "2023-07-28T11:19:13.538706",
     "status": "completed"
    },
    "tags": []
   },
   "outputs": [
    {
     "name": "stdout",
     "output_type": "stream",
     "text": [
      "5\n",
      "[1, 2, 3, 4, 5, 6]\n"
     ]
    }
   ],
   "source": [
    "def removeDuplicate(arr,N):\n",
    "    p1=0\n",
    "    for p2 in range(1,N):\n",
    "        if arr[p1] != arr[p2]:\n",
    "            arr[p1 + 1]=arr[p2]\n",
    "            p1 += 1\n",
    "    print(p1)\n",
    "    return arr[0:p1+1]\n",
    "array=[1,2,2,2,3,4,5,5,5,5,6,6,6] \n",
    "ans=removeDuplicate(array,len(array))\n",
    "print(ans)\n",
    "        "
   ]
  },
  {
   "cell_type": "code",
   "execution_count": 5,
   "id": "05e8dc8d",
   "metadata": {
    "execution": {
     "iopub.execute_input": "2023-07-28T11:19:13.570243Z",
     "iopub.status.busy": "2023-07-28T11:19:13.569864Z",
     "iopub.status.idle": "2023-07-28T11:19:13.576967Z",
     "shell.execute_reply": "2023-07-28T11:19:13.576119Z"
    },
    "papermill": {
     "duration": 0.016936,
     "end_time": "2023-07-28T11:19:13.579580",
     "exception": false,
     "start_time": "2023-07-28T11:19:13.562644",
     "status": "completed"
    },
    "tags": []
   },
   "outputs": [
    {
     "name": "stdout",
     "output_type": "stream",
     "text": [
      "[1, 2, 3, 4, 4, 5, 0, 0, 0, 0, 0, 0]\n"
     ]
    }
   ],
   "source": [
    "#bruteForce\n",
    "# take temp array --> push all the non-zero --> then fill the remaining ele with zero\n",
    "def moveZero(arr):\n",
    "    temp = []\n",
    "    for i in arr:\n",
    "        if i != 0:\n",
    "            temp.append(i)\n",
    "    \n",
    "    for i in range(len(temp)):\n",
    "        arr[i] = temp[i]\n",
    "        \n",
    "    for i in range(len(temp),len(arr)):\n",
    "        arr[i] = 0\n",
    "    print(arr)\n",
    "\n",
    "#driver code    \n",
    "array= [0,1,2,3,0,0,0,0,4,0,4,5]\n",
    "moveZero(array)\n",
    "\n",
    "\n",
    "# TS = o(n) + o(x) + o(n-x) ==>o(2n)\n",
    "# sc = O(n) if no zero appears , all ele will be transfered to temp"
   ]
  },
  {
   "cell_type": "code",
   "execution_count": 6,
   "id": "ddc09485",
   "metadata": {
    "execution": {
     "iopub.execute_input": "2023-07-28T11:19:13.593293Z",
     "iopub.status.busy": "2023-07-28T11:19:13.592887Z",
     "iopub.status.idle": "2023-07-28T11:19:13.600245Z",
     "shell.execute_reply": "2023-07-28T11:19:13.599409Z"
    },
    "papermill": {
     "duration": 0.017205,
     "end_time": "2023-07-28T11:19:13.602728",
     "exception": false,
     "start_time": "2023-07-28T11:19:13.585523",
     "status": "completed"
    },
    "tags": []
   },
   "outputs": [
    {
     "name": "stdout",
     "output_type": "stream",
     "text": [
      "[1]\n"
     ]
    }
   ],
   "source": [
    "#optimal - movezeroes\n",
    "def move_zero_optimal(arr):\n",
    "    j = -1\n",
    "    #finding the first zero apperance, J will have the index of first zero\n",
    "    for i in range(len(arr)):\n",
    "        if arr[i] == 0:\n",
    "            j = i\n",
    "            break\n",
    "    if j==-1:\n",
    "        return arr\n",
    "    #will start from ele next to zero, and if zero found swap\n",
    "    for i in range(j+1,len(arr)):\n",
    "        if arr[i] != 0:\n",
    "            arr[i],arr[j] = arr[j],arr[i]\n",
    "            j += 1\n",
    "    return arr\n",
    "\n",
    "\n",
    "#driver code\n",
    "array = [1]\n",
    "print(move_zero_optimal(array))\n",
    "\n",
    "# TS = O(X) + O(N-X) ==> O(N)\n",
    "#SC = O(1) bcz no extra space is begin used except given array"
   ]
  },
  {
   "cell_type": "code",
   "execution_count": 7,
   "id": "5ee44e08",
   "metadata": {
    "execution": {
     "iopub.execute_input": "2023-07-28T11:19:13.616514Z",
     "iopub.status.busy": "2023-07-28T11:19:13.615871Z",
     "iopub.status.idle": "2023-07-28T11:19:13.624833Z",
     "shell.execute_reply": "2023-07-28T11:19:13.623533Z"
    },
    "papermill": {
     "duration": 0.018423,
     "end_time": "2023-07-28T11:19:13.626984",
     "exception": false,
     "start_time": "2023-07-28T11:19:13.608561",
     "status": "completed"
    },
    "tags": []
   },
   "outputs": [
    {
     "name": "stdout",
     "output_type": "stream",
     "text": [
      "{1: 1, 2: 1, 3: 1, 4: 1, 5: 1, 6: 1, 7: 1, 8: 1, 9: 1, 10: 1}\n",
      "{1: 1, 2: 2, 3: 2, 4: 3, 5: 2, 6: 1, 7: 1, 8: 1, 9: 1, 10: 1, 11: 1, 12: 1}\n",
      "Union of arr1 and arr2 is:\n",
      "1 2 3 4 5 6 7 8 9 10 11 12 "
     ]
    }
   ],
   "source": [
    "\n",
    "def find_union(arr1, arr2):\n",
    "    freq = {}\n",
    "    union = []\n",
    "    \n",
    "    for num in arr1:\n",
    "        freq[num] = freq.get(num, 0) + 1\n",
    "    print(freq)\n",
    "    \n",
    "    for num in arr2:\n",
    "        freq[num] = freq.get(num, 0) + 1\n",
    "    print(freq)\n",
    "    \n",
    "    for num in freq:\n",
    "        union.append(num)\n",
    "    \n",
    "    return union\n",
    "\n",
    "arr1 = [1, 2, 3, 4, 5, 6, 7, 8, 9, 10]\n",
    "arr2 = [2, 3, 4, 4, 5, 11, 12]\n",
    "\n",
    "union = find_union(arr1, arr2)\n",
    "\n",
    "print(\"Union of arr1 and arr2 is:\")\n",
    "for num in union:\n",
    "    print(num, end=\" \")\n"
   ]
  },
  {
   "cell_type": "code",
   "execution_count": 8,
   "id": "eddecebc",
   "metadata": {
    "execution": {
     "iopub.execute_input": "2023-07-28T11:19:13.641294Z",
     "iopub.status.busy": "2023-07-28T11:19:13.640675Z",
     "iopub.status.idle": "2023-07-28T11:19:13.646033Z",
     "shell.execute_reply": "2023-07-28T11:19:13.644697Z"
    },
    "papermill": {
     "duration": 0.015408,
     "end_time": "2023-07-28T11:19:13.648370",
     "exception": false,
     "start_time": "2023-07-28T11:19:13.632962",
     "status": "completed"
    },
    "tags": []
   },
   "outputs": [
    {
     "name": "stdout",
     "output_type": "stream",
     "text": [
      "Hi\n"
     ]
    }
   ],
   "source": [
    "print('Hi')"
   ]
  },
  {
   "cell_type": "code",
   "execution_count": 9,
   "id": "b89789c4",
   "metadata": {
    "execution": {
     "iopub.execute_input": "2023-07-28T11:19:13.662603Z",
     "iopub.status.busy": "2023-07-28T11:19:13.662213Z",
     "iopub.status.idle": "2023-07-28T11:19:13.666600Z",
     "shell.execute_reply": "2023-07-28T11:19:13.665799Z"
    },
    "papermill": {
     "duration": 0.014257,
     "end_time": "2023-07-28T11:19:13.668719",
     "exception": false,
     "start_time": "2023-07-28T11:19:13.654462",
     "status": "completed"
    },
    "tags": []
   },
   "outputs": [],
   "source": [
    "inp = '/../home/danish/././fold1/../fold2/file.py'\n",
    "array = inp.split('/')"
   ]
  },
  {
   "cell_type": "code",
   "execution_count": null,
   "id": "3ea57eca",
   "metadata": {
    "papermill": {
     "duration": 0.005757,
     "end_time": "2023-07-28T11:19:13.680532",
     "exception": false,
     "start_time": "2023-07-28T11:19:13.674775",
     "status": "completed"
    },
    "tags": []
   },
   "outputs": [],
   "source": []
  },
  {
   "cell_type": "code",
   "execution_count": 10,
   "id": "85669f91",
   "metadata": {
    "execution": {
     "iopub.execute_input": "2023-07-28T11:19:13.695927Z",
     "iopub.status.busy": "2023-07-28T11:19:13.695428Z",
     "iopub.status.idle": "2023-07-28T11:19:13.701309Z",
     "shell.execute_reply": "2023-07-28T11:19:13.700042Z"
    },
    "papermill": {
     "duration": 0.015754,
     "end_time": "2023-07-28T11:19:13.703524",
     "exception": false,
     "start_time": "2023-07-28T11:19:13.687770",
     "status": "completed"
    },
    "tags": []
   },
   "outputs": [
    {
     "name": "stdout",
     "output_type": "stream",
     "text": [
      "['', '..', 'home', 'danish', '.', '.', 'fold1', '..', 'fold2', 'file.py']\n",
      "10\n"
     ]
    }
   ],
   "source": [
    "print(array)\n",
    "print(len(array))"
   ]
  },
  {
   "cell_type": "code",
   "execution_count": 11,
   "id": "1538eeb4",
   "metadata": {
    "execution": {
     "iopub.execute_input": "2023-07-28T11:19:13.717584Z",
     "iopub.status.busy": "2023-07-28T11:19:13.717200Z",
     "iopub.status.idle": "2023-07-28T11:19:13.724167Z",
     "shell.execute_reply": "2023-07-28T11:19:13.723087Z"
    },
    "papermill": {
     "duration": 0.017241,
     "end_time": "2023-07-28T11:19:13.727025",
     "exception": false,
     "start_time": "2023-07-28T11:19:13.709784",
     "status": "completed"
    },
    "tags": []
   },
   "outputs": [
    {
     "name": "stdout",
     "output_type": "stream",
     "text": [
      "/home/danish/fold2/file.py\n"
     ]
    }
   ],
   "source": [
    "absolutePath = []\n",
    "for i in array[1:len(array)]:\n",
    "    if len(i)> 3:\n",
    "        absolutePath.append(i)\n",
    "    elif i == '.':\n",
    "        pass\n",
    "    elif i == '..' and absolutePath:\n",
    "        absolutePath.pop()\n",
    "ans= '/'.join(absolutePath)\n",
    "print('/' +ans)\n",
    "        "
   ]
  },
  {
   "cell_type": "code",
   "execution_count": null,
   "id": "9138ed65",
   "metadata": {
    "papermill": {
     "duration": 0.006059,
     "end_time": "2023-07-28T11:19:13.739707",
     "exception": false,
     "start_time": "2023-07-28T11:19:13.733648",
     "status": "completed"
    },
    "tags": []
   },
   "outputs": [],
   "source": []
  }
 ],
 "metadata": {
  "kernelspec": {
   "display_name": "Python 3",
   "language": "python",
   "name": "python3"
  },
  "language_info": {
   "codemirror_mode": {
    "name": "ipython",
    "version": 3
   },
   "file_extension": ".py",
   "mimetype": "text/x-python",
   "name": "python",
   "nbconvert_exporter": "python",
   "pygments_lexer": "ipython3",
   "version": "3.10.12"
  },
  "papermill": {
   "default_parameters": {},
   "duration": 12.754961,
   "end_time": "2023-07-28T11:19:14.669735",
   "environment_variables": {},
   "exception": null,
   "input_path": "__notebook__.ipynb",
   "output_path": "__notebook__.ipynb",
   "parameters": {},
   "start_time": "2023-07-28T11:19:01.914774",
   "version": "2.4.0"
  }
 },
 "nbformat": 4,
 "nbformat_minor": 5
}
